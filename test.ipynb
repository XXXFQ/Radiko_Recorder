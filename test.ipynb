{
 "cells": [
  {
   "cell_type": "code",
   "execution_count": 1,
   "metadata": {},
   "outputs": [],
   "source": [
    "import radiko_recorder"
   ]
  },
  {
   "cell_type": "code",
   "execution_count": 2,
   "metadata": {},
   "outputs": [
    {
     "name": "stdout",
     "output_type": "stream",
     "text": [
      "usage: ipykernel_launcher.py [-h] [-a AREA_ID] [-s]\n",
      "                             [station_id] [start_time] [duration_minutes]\n",
      "\n",
      "Radiko Recorder\n",
      "\n",
      "positional arguments:\n",
      "  station_id            Station ID\n",
      "  start_time            Start time (YYYYMMDDHHMMSS)\n",
      "  duration_minutes      Duration (minutes)\n",
      "\n",
      "options:\n",
      "  -h, --help            show this help message and exit\n",
      "  -a AREA_ID, --area_id AREA_ID\n",
      "                        Area ID (JP13, JP27, etc.)\n",
      "  -s, --station_list    Show station list\n"
     ]
    }
   ],
   "source": [
    "try:\n",
    "    radiko_recorder.main(['-h'])\n",
    "except SystemExit:\n",
    "    pass"
   ]
  },
  {
   "cell_type": "code",
   "execution_count": 3,
   "metadata": {},
   "outputs": [
    {
     "name": "stdout",
     "output_type": "stream",
     "text": [
      "TBS: TBSラジオ\n",
      "QRR: 文化放送\n",
      "LFR: ニッポン放送\n",
      "RN1: ラジオNIKKEI第1\n",
      "RN2: ラジオNIKKEI第2\n",
      "INT: interfm\n",
      "FMT: TOKYO FM\n",
      "FMJ: J-WAVE\n",
      "JORF: ラジオ日本\n",
      "BAYFM78: BAYFM78\n",
      "NACK5: NACK5\n",
      "YFM: ＦＭヨコハマ\n",
      "IBS: LuckyFM 茨城放送\n",
      "JOAK: NHKラジオ第1（東京）\n",
      "JOAK-FM: NHK-FM（東京）\n"
     ]
    }
   ],
   "source": [
    "radiko_recorder.main(['-a', 'JP13', '-s'])"
   ]
  },
  {
   "cell_type": "code",
   "execution_count": 4,
   "metadata": {},
   "outputs": [
    {
     "name": "stderr",
     "output_type": "stream",
     "text": [
      "\u001b[90m2024-11-21 02:04:51 \u001b[94mINFO     \u001b[35mradiko_recorder.recorder \u001b[37mRecording output\\FMT_20241121020449.aac...\u001b[0m\n",
      "\u001b[90m2024-11-21 02:05:09 \u001b[94mINFO     \u001b[35mradiko_recorder.recorder \u001b[37mSuccessfully recorded output\\FMT_20241121020449.aac\u001b[0m\n"
     ]
    }
   ],
   "source": [
    "radiko_recorder.main(['-a', 'JP13', 'FMT', '20241120120000', '30'])"
   ]
  }
 ],
 "metadata": {
  "kernelspec": {
   "display_name": "radiko-recorder-wj1iKf6B-py3.11",
   "language": "python",
   "name": "python3"
  },
  "language_info": {
   "codemirror_mode": {
    "name": "ipython",
    "version": 3
   },
   "file_extension": ".py",
   "mimetype": "text/x-python",
   "name": "python",
   "nbconvert_exporter": "python",
   "pygments_lexer": "ipython3",
   "version": "3.11.9"
  }
 },
 "nbformat": 4,
 "nbformat_minor": 2
}
